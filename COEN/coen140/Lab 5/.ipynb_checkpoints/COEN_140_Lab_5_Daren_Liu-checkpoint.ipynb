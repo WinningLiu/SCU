{
 "cells": [
  {
   "cell_type": "code",
   "execution_count": 7,
   "metadata": {},
   "outputs": [
    {
     "name": "stdout",
     "output_type": "stream",
     "text": [
      "Training error with logistic regression and gradient descent: 6.119791666666657%\n",
      "Testing error with logistic regression and gradient descent: 6.966145833333343%\n"
     ]
    }
   ],
   "source": [
    "import numpy as np\n",
    "import pandas as pd\n",
    "import math\n",
    "\n",
    "def normalize(mat):\n",
    "    result = (mat - mat.mean(axis=0)) / mat.std(axis=0)\n",
    "    return result\n",
    "\n",
    "def sigmoid(z):\n",
    "    return 1 / (1 + math.exp(-z))\n",
    "\n",
    "def accuracy(actual, pred):\n",
    "    count = 0\n",
    "    total = len(y_test)\n",
    "    for i in range(total):\n",
    "        if pred[i] == actual[i]:\n",
    "            count += 1\n",
    "    accuracy = (count/total) * 100\n",
    "    error = 100 - accuracy\n",
    "    return str(error)\n",
    "\n",
    "def round_pred(pred):\n",
    "    results = []\n",
    "    for item in pred:\n",
    "        if item < 0.5:\n",
    "            results.append(0)\n",
    "        else:\n",
    "            results.append(1)\n",
    "    return results\n",
    "\n",
    "condense = np.vectorize(sigmoid)\n",
    "\n",
    "alpha = 5*(10e-5)\n",
    "\n",
    "class logistic_gradient_descent:\n",
    "    \n",
    "    def fit(self, X_initial, y):\n",
    "        X = X_initial.copy()\n",
    "        \n",
    "        X['bias'] = np.ones(X.shape[0])\n",
    "        \n",
    "        weights = np.random.normal(0,1,size=X.shape[1])\n",
    "        \n",
    "        e = 1\n",
    "        while e > 10e-5:\n",
    "            weights1 = weights - alpha*(np.dot((condense(np.dot(X,weights)) - y),X))\n",
    "            e = np.linalg.norm(weights1 - weights) \n",
    "            weights = weights1\n",
    "            \n",
    "        self.weights = weights\n",
    "        return self\n",
    "\n",
    "    def predict(self,mat):\n",
    "        X = mat.copy()\n",
    "        \n",
    "        X['bias'] = np.ones(X.shape[0])\n",
    "        \n",
    "        return condense(np.dot(self.weights,X.T))\n",
    "\n",
    "\n",
    "train = pd.read_csv('spambase/spam-train', header=None)\n",
    "test = pd.read_csv('spambase/spam-test', header=None)\n",
    "\n",
    "X_train = train.drop(57,axis=1)\n",
    "y_train = train[57]\n",
    "\n",
    "X_test = test.drop(57,axis=1)\n",
    "y_test = test[57]\n",
    "\n",
    "logistic_regression = logistic_gradient_descent()\n",
    "logistic_regression.fit(normalize(X_train),y_train)\n",
    "\n",
    "train_pred = round_pred(logistic_regression.predict(normalize(X_train)))\n",
    "print('Training error with logistic regression and gradient descent: ' + accuracy(y_train, train_pred) + '%')\n",
    "\n",
    "test_pred = round_pred(logistic_regression.predict(normalize(X_test)))\n",
    "print('Testing error with logistic regression and gradient descent: ' + accuracy(y_test, test_pred) + '%')"
   ]
  },
  {
   "cell_type": "code",
   "execution_count": null,
   "metadata": {},
   "outputs": [],
   "source": []
  }
 ],
 "metadata": {
  "kernelspec": {
   "display_name": "Python 3",
   "language": "python",
   "name": "python3"
  },
  "language_info": {
   "codemirror_mode": {
    "name": "ipython",
    "version": 3
   },
   "file_extension": ".py",
   "mimetype": "text/x-python",
   "name": "python",
   "nbconvert_exporter": "python",
   "pygments_lexer": "ipython3",
   "version": "3.8.5"
  }
 },
 "nbformat": 4,
 "nbformat_minor": 4
}
