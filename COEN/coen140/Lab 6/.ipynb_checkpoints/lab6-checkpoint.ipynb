{
 "cells": [
  {
   "cell_type": "markdown",
   "metadata": {},
   "source": [
    "# Support Vector Machine\n",
    "\n",
    "This lab demonstrates using support vector machines (SVMs) with various example 2D datasets. \n",
    "Experimenting with these datasets will help you gain an intuition of how SVMs work and how to use \n",
    "a Gaussian kernel with SVMs."
   ]
  },
  {
   "cell_type": "markdown",
   "metadata": {},
   "source": [
    "### Exercise 1: Linear Kernel\n",
    "\n",
    "We will begin with a 2D example dataset which can be separated by a\n",
    "linear boundary. In this dataset, the positions of the positive examples (indicated with +) and the\n",
    "negative examples (indicated with -) suggest a natural separation indicated\n",
    "by the gap. However, notice that there is an outlier positive example + on\n",
    "the far left at about (0,4). As part of this exercise, you will also see how\n",
    "this outlier affects the SVM decision boundary."
   ]
  },
  {
   "cell_type": "code",
   "execution_count": 8,
   "metadata": {},
   "outputs": [
    {
     "data": {
      "image/png": "[encoded data removed]",
      "text/plain": [
       "<Figure size 648x504 with 1 Axes>"
      ]
     },
     "metadata": {
      "needs_background": "light"
     },
     "output_type": "display_data"
    }
   ],
   "source": [
    "#%matplotlib inline\n",
    "import matplotlib.pyplot as plt\n",
    "import matplotlib.markers as markers\n",
    "import pandas as pd\n",
    "import numpy as np\n",
    "from os.path import join\n",
    "from sklearn.svm import SVC\n",
    "\n",
    "def LoadData(sfile, lfile):\n",
    "    # Load samples\n",
    "    df = pd.read_csv(\n",
    "        filepath_or_buffer=join('data', sfile), \n",
    "        header=None)\n",
    "    samples = df.iloc[:,:].values\n",
    "\n",
    "    # Load classification labels\n",
    "    df = pd.read_csv(\n",
    "        filepath_or_buffer=join('data', lfile), \n",
    "        header=None)\n",
    "    labels = df.iloc[:,:].values\n",
    "    \n",
    "    return samples, labels\n",
    "\n",
    "def ParseData(samples, labels):\n",
    "\n",
    "    x1_pos = np.array([])\n",
    "    x2_pos = np.array([])\n",
    "    x1_neg = np.array([])\n",
    "    x2_neg = np.array([])\n",
    "\n",
    "    for i in range(0, len(labels)):\n",
    "        if(labels[i][0] == 1):\n",
    "            x1_pos = np.append(x1_pos,samples[i, 0])\n",
    "            x2_pos = np.append(x2_pos,samples[i, 1])\n",
    "        else:\n",
    "            x1_neg = np.append(x1_neg,samples[i, 0])\n",
    "            x2_neg = np.append(x2_neg,samples[i, 1])\n",
    "            \n",
    "    return x1_pos, x2_pos, x1_neg, x2_neg\n",
    "\n",
    "samples, labels = LoadData('samples.csv', 'labels.csv')\n",
    "x1_pos, x2_pos, x1_neg, x2_neg = ParseData(samples, labels)\n",
    "\n",
    "plt.figure(figsize=(9,7))        \n",
    "plt.scatter(x1_pos, x2_pos, color='green', marker=\"+\")\n",
    "plt.scatter(x1_neg, x2_neg, color='black', marker=\"_\")\n",
    "plt.show()"
   ]
  },
  {
   "cell_type": "code",
   "execution_count": 2,
   "metadata": {},
   "outputs": [],
   "source": [
    "def make_meshgrid(x, y, h=.02):\n",
    "    x_min, x_max = x.min() - 1, x.max() + 1\n",
    "    y_min, y_max = y.min() - 1, y.max() + 1\n",
    "    xx, yy = np.meshgrid(np.arange(x_min, x_max, h), np.arange(y_min, y_max, h))\n",
    "    return xx, yy\n",
    "\n",
    "def plot_contours(ax, clf, xx, yy, **params):\n",
    "    Z = clf.predict(np.c_[xx.ravel(), yy.ravel()])\n",
    "    Z = Z.reshape(xx.shape)\n",
    "    out = ax.contourf(xx, yy, Z, **params)\n",
    "    return out\n",
    "\n",
    "def SupportVectorMachine(X, y, kernel, C, sigma):\n",
    "    if(kernel == 'linear'):\n",
    "        model = SVC(kernel=kernel, C=C)\n",
    "    else:\n",
    "        gamma = 1/(2*sigma*sigma)\n",
    "        model = SVC(kernel=kernel, C=C, gamma=gamma)\n",
    "        \n",
    "    clf = model.fit(X, y.ravel())\n",
    "    return clf, model\n",
    "\n",
    "def PlotSVM(clf, X, y):\n",
    "\n",
    "    fig, ax = plt.subplots(figsize=(9, 7))\n",
    "    # title for the plots\n",
    "  \n",
    "    # Set-up grid for plotting.\n",
    "    X0, X1 = X[:, 0], X[:, 1]\n",
    "    xx, yy = make_meshgrid(X0, X1)\n",
    "    plot_contours(ax, clf, xx, yy, cmap=plt.cm.coolwarm, alpha=0.6)\n",
    "    \n",
    "    x1_pos, x2_pos, x1_neg, x2_neg = ParseData(X, y)\n",
    "    plt.scatter(x1_pos, x2_pos, color='green', marker=\"+\")\n",
    "    plt.scatter(x1_neg, x2_neg, color='black', marker=\"_\")\n",
    "    return fig, ax"
   ]
  },
  {
   "cell_type": "markdown",
   "metadata": {},
   "source": [
    "Informally, the C parameter is a positive value that controls the penalty for misclassified training examples. A large C parameter tells the SVM to try to classify all the examples correctly. C plays a role similar to $\\frac{1}{\\lambda}$ where $\\lambda$ is the regularization parameter for logistic regression."
   ]
  },
  {
   "cell_type": "markdown",
   "metadata": {},
   "source": [
    "**Do This**: In the two cells below, execute SVM with a liner kernel and C=1 and then C=100. Use the PlotSVM function to re-create the two plots below."
   ]
  },
  {
   "cell_type": "code",
   "execution_count": 12,
   "metadata": {},
   "outputs": [
    {
     "data": {
      "text/plain": [
       "(<Figure size 648x504 with 1 Axes>, <AxesSubplot:>)"
      ]
     },
     "execution_count": 12,
     "metadata": {},
     "output_type": "execute_result"
    },
    {
     "data": {
      "image/png": "[encoded data removed]",
      "text/plain": [
       "<Figure size 648x504 with 1 Axes>"
      ]
     },
     "metadata": {
      "needs_background": "light"
     },
     "output_type": "display_data"
    }
   ],
   "source": [
    "#%matplotlib inline\n",
    "import matplotlib.pyplot as plt\n",
    "import matplotlib.markers as markers\n",
    "import pandas as pd\n",
    "import numpy as np\n",
    "from os.path import join\n",
    "from sklearn.svm import SVC\n",
    "\n",
    "def LoadData(sfile, lfile):\n",
    "    # Load samples\n",
    "    df = pd.read_csv(\n",
    "        filepath_or_buffer=join('data', sfile), \n",
    "        header=None)\n",
    "    samples = df.iloc[:,:].values\n",
    "\n",
    "    # Load classification labels\n",
    "    df = pd.read_csv(\n",
    "        filepath_or_buffer=join('data', lfile), \n",
    "        header=None)\n",
    "    labels = df.iloc[:,:].values\n",
    "    \n",
    "    return samples, labels\n",
    "\n",
    "def ParseData(samples, labels):\n",
    "\n",
    "    x1_pos = np.array([])\n",
    "    x2_pos = np.array([])\n",
    "    x1_neg = np.array([])\n",
    "    x2_neg = np.array([])\n",
    "\n",
    "    for i in range(0, len(labels)):\n",
    "        if(labels[i][0] == 1):\n",
    "            x1_pos = np.append(x1_pos,samples[i, 0])\n",
    "            x2_pos = np.append(x2_pos,samples[i, 1])\n",
    "        else:\n",
    "            x1_neg = np.append(x1_neg,samples[i, 0])\n",
    "            x2_neg = np.append(x2_neg,samples[i, 1])\n",
    "            \n",
    "    return x1_pos, x2_pos, x1_neg, x2_neg\n",
    "\n",
    "def make_meshgrid(x, y, h=.02):\n",
    "    x_min, x_max = x.min() - 1, x.max() + 1\n",
    "    y_min, y_max = y.min() - 1, y.max() + 1\n",
    "    xx, yy = np.meshgrid(np.arange(x_min, x_max, h), np.arange(y_min, y_max, h))\n",
    "    return xx, yy\n",
    "\n",
    "def plot_contours(ax, clf, xx, yy, **params):\n",
    "    Z = clf.predict(np.c_[xx.ravel(), yy.ravel()])\n",
    "    Z = Z.reshape(xx.shape)\n",
    "    out = ax.contourf(xx, yy, Z, **params)\n",
    "    return out\n",
    "\n",
    "def SupportVectorMachine(X, y, kernel, C, sigma):\n",
    "    if(kernel == 'linear'):\n",
    "        model = SVC(kernel=kernel, C=C)\n",
    "    else:\n",
    "        gamma = 1/(2*sigma*sigma)\n",
    "        model = SVC(kernel=kernel, C=C, gamma=gamma)\n",
    "        \n",
    "    clf = model.fit(X, y.ravel())\n",
    "    return clf, model\n",
    "\n",
    "def PlotSVM(clf, X, y):\n",
    "\n",
    "    fig, ax = plt.subplots(figsize=(9, 7))\n",
    "    # title for the plots\n",
    "  \n",
    "    # Set-up grid for plotting.\n",
    "    X0, X1 = X[:, 0], X[:, 1]\n",
    "    xx, yy = make_meshgrid(X0, X1)\n",
    "    plot_contours(ax, clf, xx, yy, cmap=plt.cm.coolwarm, alpha=0.6)\n",
    "    \n",
    "    x1_pos, x2_pos, x1_neg, x2_neg = ParseData(X, y)\n",
    "    plt.scatter(x1_pos, x2_pos, color='green', marker=\"+\")\n",
    "    plt.scatter(x1_neg, x2_neg, color='black', marker=\"_\")\n",
    "    return fig, ax\n",
    "\n",
    "samples, labels = LoadData('samples.csv', 'labels.csv')\n",
    "clf, model = SupportVectorMachine(samples, labels, 'linear', 1, 0)\n",
    "PlotSVM(clf, samples, labels)"
   ]
  },
  {
   "cell_type": "code",
   "execution_count": 13,
   "metadata": {},
   "outputs": [
    {
     "data": {
      "text/plain": [
       "(<Figure size 648x504 with 1 Axes>, <AxesSubplot:>)"
      ]
     },
     "execution_count": 13,
     "metadata": {},
     "output_type": "execute_result"
    },
    {
     "data": {
      "image/png": "[encoded data removed]",
      "text/plain": [
       "<Figure size 648x504 with 1 Axes>"
      ]
     },
     "metadata": {
      "needs_background": "light"
     },
     "output_type": "display_data"
    }
   ],
   "source": [
    "#%matplotlib inline\n",
    "import matplotlib.pyplot as plt\n",
    "import matplotlib.markers as markers\n",
    "import pandas as pd\n",
    "import numpy as np\n",
    "from os.path import join\n",
    "from sklearn.svm import SVC\n",
    "\n",
    "def LoadData(sfile, lfile):\n",
    "    # Load samples\n",
    "    df = pd.read_csv(\n",
    "        filepath_or_buffer=join('data', sfile), \n",
    "        header=None)\n",
    "    samples = df.iloc[:,:].values\n",
    "\n",
    "    # Load classification labels\n",
    "    df = pd.read_csv(\n",
    "        filepath_or_buffer=join('data', lfile), \n",
    "        header=None)\n",
    "    labels = df.iloc[:,:].values\n",
    "    \n",
    "    return samples, labels\n",
    "\n",
    "def ParseData(samples, labels):\n",
    "\n",
    "    x1_pos = np.array([])\n",
    "    x2_pos = np.array([])\n",
    "    x1_neg = np.array([])\n",
    "    x2_neg = np.array([])\n",
    "\n",
    "    for i in range(0, len(labels)):\n",
    "        if(labels[i][0] == 1):\n",
    "            x1_pos = np.append(x1_pos,samples[i, 0])\n",
    "            x2_pos = np.append(x2_pos,samples[i, 1])\n",
    "        else:\n",
    "            x1_neg = np.append(x1_neg,samples[i, 0])\n",
    "            x2_neg = np.append(x2_neg,samples[i, 1])\n",
    "            \n",
    "    return x1_pos, x2_pos, x1_neg, x2_neg\n",
    "\n",
    "samples, labels = LoadData('samples.csv', 'labels.csv')\n",
    "\n",
    "def make_meshgrid(x, y, h=.02):\n",
    "    x_min, x_max = x.min() - 1, x.max() + 1\n",
    "    y_min, y_max = y.min() - 1, y.max() + 1\n",
    "    xx, yy = np.meshgrid(np.arange(x_min, x_max, h), np.arange(y_min, y_max, h))\n",
    "    return xx, yy\n",
    "\n",
    "def plot_contours(ax, clf, xx, yy, **params):\n",
    "    Z = clf.predict(np.c_[xx.ravel(), yy.ravel()])\n",
    "    Z = Z.reshape(xx.shape)\n",
    "    out = ax.contourf(xx, yy, Z, **params)\n",
    "    return out\n",
    "\n",
    "def SupportVectorMachine(X, y, kernel, C, sigma):\n",
    "    if(kernel == 'linear'):\n",
    "        model = SVC(kernel=kernel, C=C)\n",
    "    else:\n",
    "        gamma = 1/(2*sigma*sigma)\n",
    "        model = SVC(kernel=kernel, C=C, gamma=gamma)\n",
    "        \n",
    "    clf = model.fit(X, y.ravel())\n",
    "    return clf, model\n",
    "\n",
    "def PlotSVM(clf, X, y):\n",
    "\n",
    "    fig, ax = plt.subplots(figsize=(9, 7))\n",
    "    # title for the plots\n",
    "  \n",
    "    # Set-up grid for plotting.\n",
    "    X0, X1 = X[:, 0], X[:, 1]\n",
    "    xx, yy = make_meshgrid(X0, X1)\n",
    "    plot_contours(ax, clf, xx, yy, cmap=plt.cm.coolwarm, alpha=0.6)\n",
    "    \n",
    "    x1_pos, x2_pos, x1_neg, x2_neg = ParseData(X, y)\n",
    "    plt.scatter(x1_pos, x2_pos, color='green', marker=\"+\")\n",
    "    plt.scatter(x1_neg, x2_neg, color='black', marker=\"_\")\n",
    "    return fig, ax\n",
    "\n",
    "clf, model = SupportVectorMachine(samples, labels, 'linear', 100, 0)\n",
    "PlotSVM(clf, samples, labels)"
   ]
  },
  {
   "cell_type": "markdown",
   "metadata": {},
   "source": [
    "With C = 100, every point is now classified correctly but the decision boundary does not appear to be a natural fit for the data. This is the bias/variance tradeoff in action!"
   ]
  },
  {
   "cell_type": "markdown",
   "metadata": {},
   "source": [
    "### Exercise 2: Gaussian Kernel\n",
    "\n",
    "To find non-linear decision boundaries with the SVM, we can use a Gaussian kernel. You can think of the Gaussian kernel as a similarity function that measures the \"distance\" between a pair of examples. The kernel is also parameterized by a bandwidth parameter $\\sigma$, which determines how fast the similarity meteric decreases (to 0) as the examples are further apart\n",
    "\n",
    "**Note:** \n",
    "The sklearn library uses a hyperparameter called 'gamma'. According to their documentation found here https://scikit-learn.org/stable/modules/svm.html#svm-kernels, gamma is equivalent to $\\frac{1}{2\\sigma^2}$"
   ]
  },
  {
   "cell_type": "code",
   "execution_count": 9,
   "metadata": {},
   "outputs": [
    {
     "data": {
      "image/png": "[encoded data removed]",
      "text/plain": [
       "<Figure size 648x504 with 1 Axes>"
      ]
     },
     "metadata": {
      "needs_background": "light"
     },
     "output_type": "display_data"
    }
   ],
   "source": [
    "# Load samples\n",
    "samples2, labels2 = LoadData('samples2.csv', 'labels2.csv')\n",
    "x1_pos, x2_pos, x1_neg, x2_neg = ParseData(samples2, labels2)\n",
    "plt.figure(figsize=(9,7))           \n",
    "plt.scatter(x1_pos, x2_pos, color='green', marker=\"+\")\n",
    "plt.scatter(x1_neg, x2_neg, color='black', marker=\"_\")\n",
    "plt.show()"
   ]
  },
  {
   "cell_type": "markdown",
   "metadata": {},
   "source": [
    "**Do This**: In the two cells below, execute SVM with an RBF kernel and (C=1, $\\sigma$=0.1) and then (C=100, $\\sigma$=1). Use the PlotSVM function to re-create the two plots below."
   ]
  },
  {
   "cell_type": "code",
   "execution_count": 23,
   "metadata": {},
   "outputs": [
    {
     "data": {
      "text/plain": [
       "(<Figure size 648x504 with 1 Axes>, <AxesSubplot:>)"
      ]
     },
     "execution_count": 23,
     "metadata": {},
     "output_type": "execute_result"
    },
    {
     "data": {
      "image/png": "[encoded data removed]",
      "text/plain": [
       "<Figure size 648x504 with 1 Axes>"
      ]
     },
     "metadata": {
      "needs_background": "light"
     },
     "output_type": "display_data"
    }
   ],
   "source": [
    "#%matplotlib inline\n",
    "import matplotlib.pyplot as plt\n",
    "import matplotlib.markers as markers\n",
    "import pandas as pd\n",
    "import numpy as np\n",
    "from os.path import join\n",
    "from sklearn.svm import SVC\n",
    "from sklearn import svm\n",
    "\n",
    "def LoadData(sfile, lfile):\n",
    "    # Load samples\n",
    "    df = pd.read_csv(\n",
    "        filepath_or_buffer=join('data', sfile), \n",
    "        header=None)\n",
    "    samples = df.iloc[:,:].values\n",
    "\n",
    "    # Load classification labels\n",
    "    df = pd.read_csv(\n",
    "        filepath_or_buffer=join('data', lfile), \n",
    "        header=None)\n",
    "    labels = df.iloc[:,:].values\n",
    "    \n",
    "    return samples, labels\n",
    "\n",
    "def ParseData(samples, labels):\n",
    "\n",
    "    x1_pos = np.array([])\n",
    "    x2_pos = np.array([])\n",
    "    x1_neg = np.array([])\n",
    "    x2_neg = np.array([])\n",
    "\n",
    "    for i in range(0, len(labels)):\n",
    "        if(labels[i][0] == 1):\n",
    "            x1_pos = np.append(x1_pos,samples[i, 0])\n",
    "            x2_pos = np.append(x2_pos,samples[i, 1])\n",
    "        else:\n",
    "            x1_neg = np.append(x1_neg,samples[i, 0])\n",
    "            x2_neg = np.append(x2_neg,samples[i, 1])\n",
    "            \n",
    "    return x1_pos, x2_pos, x1_neg, x2_neg\n",
    "\n",
    "def make_meshgrid(x, y, h=.02):\n",
    "    x_min, x_max = x.min() - 1, x.max() + 1\n",
    "    y_min, y_max = y.min() - 1, y.max() + 1\n",
    "    xx, yy = np.meshgrid(np.arange(x_min, x_max, h), np.arange(y_min, y_max, h))\n",
    "    return xx, yy\n",
    "\n",
    "def plot_contours(ax, clf, xx, yy, **params):\n",
    "    Z = clf.predict(np.c_[xx.ravel(), yy.ravel()])\n",
    "    Z = Z.reshape(xx.shape)\n",
    "    out = ax.contourf(xx, yy, Z, **params)\n",
    "    return out\n",
    "\n",
    "def SupportVectorMachine(X, y, kernel, C, sigma):\n",
    "    if(kernel == 'linear'):\n",
    "        model = SVC(kernel=kernel, C=C)\n",
    "    else:\n",
    "        gamma = 1/(2*sigma*sigma)\n",
    "        model = SVC(kernel=kernel, C=C, gamma=gamma)\n",
    "        \n",
    "    clf = model.fit(X, y.ravel())\n",
    "    return clf, model\n",
    "\n",
    "def PlotSVM(clf, X, y):\n",
    "\n",
    "    fig, ax = plt.subplots(figsize=(9, 7))\n",
    "    # title for the plots\n",
    "  \n",
    "    # Set-up grid for plotting.\n",
    "    X0, X1 = X[:, 0], X[:, 1]\n",
    "    xx, yy = make_meshgrid(X0, X1)\n",
    "    plot_contours(ax, clf, xx, yy, cmap=plt.cm.coolwarm, alpha=0.6)\n",
    "    \n",
    "    x1_pos, x2_pos, x1_neg, x2_neg = ParseData(X, y)\n",
    "    plt.scatter(x1_pos, x2_pos, color='green', marker=\"+\")\n",
    "    plt.scatter(x1_neg, x2_neg, color='black', marker=\"_\")\n",
    "    return fig, ax\n",
    "\n",
    "samples2, labels2 = LoadData('samples2.csv', 'labels2.csv')\n",
    "rbf_svc = svm.SVC(kernel='rbf')\n",
    "clf, model = SupportVectorMachine(samples2, labels2, rbf_svc.kernel, 1, 0.1)\n",
    "PlotSVM(clf, samples2, labels2)"
   ]
  },
  {
   "cell_type": "code",
   "execution_count": 22,
   "metadata": {},
   "outputs": [
    {
     "data": {
      "text/plain": [
       "(<Figure size 648x504 with 1 Axes>, <AxesSubplot:>)"
      ]
     },
     "execution_count": 22,
     "metadata": {},
     "output_type": "execute_result"
    },
    {
     "data": {
      "image/png": "[encoded data removed]",
      "text/plain": [
       "<Figure size 648x504 with 1 Axes>"
      ]
     },
     "metadata": {
      "needs_background": "light"
     },
     "output_type": "display_data"
    }
   ],
   "source": [
    "#%matplotlib inline\n",
    "import matplotlib.pyplot as plt\n",
    "import matplotlib.markers as markers\n",
    "import pandas as pd\n",
    "import numpy as np\n",
    "from os.path import join\n",
    "from sklearn.svm import SVC\n",
    "from sklearn import svm\n",
    "\n",
    "def LoadData(sfile, lfile):\n",
    "    # Load samples\n",
    "    df = pd.read_csv(\n",
    "        filepath_or_buffer=join('data', sfile), \n",
    "        header=None)\n",
    "    samples = df.iloc[:,:].values\n",
    "\n",
    "    # Load classification labels\n",
    "    df = pd.read_csv(\n",
    "        filepath_or_buffer=join('data', lfile), \n",
    "        header=None)\n",
    "    labels = df.iloc[:,:].values\n",
    "    \n",
    "    return samples, labels\n",
    "\n",
    "def ParseData(samples, labels):\n",
    "\n",
    "    x1_pos = np.array([])\n",
    "    x2_pos = np.array([])\n",
    "    x1_neg = np.array([])\n",
    "    x2_neg = np.array([])\n",
    "\n",
    "    for i in range(0, len(labels)):\n",
    "        if(labels[i][0] == 1):\n",
    "            x1_pos = np.append(x1_pos,samples[i, 0])\n",
    "            x2_pos = np.append(x2_pos,samples[i, 1])\n",
    "        else:\n",
    "            x1_neg = np.append(x1_neg,samples[i, 0])\n",
    "            x2_neg = np.append(x2_neg,samples[i, 1])\n",
    "            \n",
    "    return x1_pos, x2_pos, x1_neg, x2_neg\n",
    "\n",
    "def make_meshgrid(x, y, h=.02):\n",
    "    x_min, x_max = x.min() - 1, x.max() + 1\n",
    "    y_min, y_max = y.min() - 1, y.max() + 1\n",
    "    xx, yy = np.meshgrid(np.arange(x_min, x_max, h), np.arange(y_min, y_max, h))\n",
    "    return xx, yy\n",
    "\n",
    "def plot_contours(ax, clf, xx, yy, **params):\n",
    "    Z = clf.predict(np.c_[xx.ravel(), yy.ravel()])\n",
    "    Z = Z.reshape(xx.shape)\n",
    "    out = ax.contourf(xx, yy, Z, **params)\n",
    "    return out\n",
    "\n",
    "def SupportVectorMachine(X, y, kernel, C, sigma):\n",
    "    if(kernel == 'linear'):\n",
    "        model = SVC(kernel=kernel, C=C)\n",
    "    else:\n",
    "        gamma = 1/(2*sigma*sigma)\n",
    "        model = SVC(kernel=kernel, C=C, gamma=gamma)\n",
    "        \n",
    "    clf = model.fit(X, y.ravel())\n",
    "    return clf, model\n",
    "\n",
    "def PlotSVM(clf, X, y):\n",
    "\n",
    "    fig, ax = plt.subplots(figsize=(9, 7))\n",
    "    # title for the plots\n",
    "  \n",
    "    # Set-up grid for plotting.\n",
    "    X0, X1 = X[:, 0], X[:, 1]\n",
    "    xx, yy = make_meshgrid(X0, X1)\n",
    "    plot_contours(ax, clf, xx, yy, cmap=plt.cm.coolwarm, alpha=0.6)\n",
    "    \n",
    "    x1_pos, x2_pos, x1_neg, x2_neg = ParseData(X, y)\n",
    "    plt.scatter(x1_pos, x2_pos, color='green', marker=\"+\")\n",
    "    plt.scatter(x1_neg, x2_neg, color='black', marker=\"_\")\n",
    "    return fig, ax\n",
    "\n",
    "samples2, labels2 = LoadData('samples2.csv', 'labels2.csv')\n",
    "rbf_svc = svm.SVC(kernel='rbf')\n",
    "clf, model = SupportVectorMachine(samples2, labels2, rbf_svc.kernel, 10, 1)\n",
    "PlotSVM(clf, samples2, labels2)"
   ]
  },
  {
   "cell_type": "markdown",
   "metadata": {},
   "source": [
    "As demonstrated above, the **values of the hyperparameters are critical** to the success of the SVM. If tuned incorreclty, the SVM can perform very poorly! "
   ]
  },
  {
   "cell_type": "markdown",
   "metadata": {},
   "source": [
    "### Exercise 3: Tuning Hyperparameters\n",
    "\n",
    "Since the hyperparameter values are so crucial to our success, it is imperative we experiment with different combinations of them to find the optimal settings. We can accomplish this by setting aside some of our training data as a validation set and evaluating our error as we iterate. Recall that for classification, one way to define error is as the fraction of the samples that were classified incorrectly. More formally, we can write this as Accuracy = $\\frac{TP + TN}{TP + TN + FP + FN}$ where `TP` is true positive, `TN` is true negative, `FP` is false positive, and `FN` is false negative\n"
   ]
  },
  {
   "cell_type": "code",
   "execution_count": 12,
   "metadata": {},
   "outputs": [
    {
     "data": {
      "image/png": "[encoded data removed]",
      "text/plain": [
       "<Figure size 648x504 with 1 Axes>"
      ]
     },
     "metadata": {
      "needs_background": "light"
     },
     "output_type": "display_data"
    }
   ],
   "source": [
    "# Load training set\n",
    "samples3, labels3 = LoadData('samples3.csv', 'labels3.csv')\n",
    "x1_pos, x2_pos, x1_neg, x2_neg = ParseData(samples3, labels3)\n",
    "plt.figure(figsize=(9,7))           \n",
    "plt.scatter(x1_pos, x2_pos, color='green', marker=\"+\")\n",
    "plt.scatter(x1_neg, x2_neg, color='black', marker=\"_\")\n",
    "plt.title('Training Set')\n",
    "plt.ylabel('X2')\n",
    "plt.xlabel('X1')\n",
    "plt.show()"
   ]
  },
  {
   "cell_type": "code",
   "execution_count": 13,
   "metadata": {},
   "outputs": [
    {
     "data": {
      "image/png": "[encoded data removed]",
      "text/plain": [
       "<Figure size 648x504 with 1 Axes>"
      ]
     },
     "metadata": {
      "needs_background": "light"
     },
     "output_type": "display_data"
    }
   ],
   "source": [
    "# Load validation set\n",
    "samples3_val, labels3_val = LoadData('samples3_val.csv', 'labels3_val.csv')\n",
    "x1_pos, x2_pos, x1_neg, x2_neg = ParseData(samples3_val, labels3_val)\n",
    "plt.figure(figsize=(9,7))           \n",
    "plt.scatter(x1_pos, x2_pos, color='green', marker=\"+\")\n",
    "plt.scatter(x1_neg, x2_neg, color='black', marker=\"_\")\n",
    "plt.title('Validation Set')\n",
    "plt.ylabel('X2')\n",
    "plt.xlabel('X1')\n",
    "plt.show()"
   ]
  },
  {
   "cell_type": "markdown",
   "metadata": {},
   "source": [
    "**Do This**: In the cell below, execute SVM with an RBF kernel and test both C and $\\sigma$ with values from the set $\\{0.01, 0.03, 0.1, 0.3, 1, 3, 10, 30\\}$. For each experiment, store the accuracy on the test set. At the end of the experiments, print out the accuracies array and the C and $\\sigma$ parameters leading to the best accuracy. Use the PlotSVM function to print the non-linear decision boundary for the best-accuracy C and $\\sigma$ parameters."
   ]
  },
  {
   "cell_type": "code",
   "execution_count": 36,
   "metadata": {},
   "outputs": [
    {
     "name": "stdout",
     "output_type": "stream",
     "text": [
      "Accuracies:  [0.435, 0.435, 0.435, 0.435, 0.435, 0.435, 0.435, 0.435, 0.435, 0.435, 0.45, 0.86, 0.62, 0.435, 0.435, 0.435, 0.435, 0.435, 0.945, 0.91, 0.825, 0.435, 0.435, 0.435, 0.435, 0.755, 0.96, 0.925, 0.89, 0.74, 0.435, 0.435, 0.605, 0.905, 0.965, 0.965, 0.925, 0.845, 0.435, 0.435, 0.62, 0.89, 0.965, 0.945, 0.93, 0.89, 0.72, 0.435, 0.62, 0.89, 0.94, 0.955, 0.935, 0.92, 0.845, 0.435, 0.62, 0.89, 0.94, 0.96, 0.925, 0.925, 0.89, 0.74]\n",
      "Best Accuracy:  0.965\n",
      "Best C:  1\n",
      "Best Sigma:  0.1\n"
     ]
    },
    {
     "data": {
      "text/plain": [
       "(<Figure size 648x504 with 1 Axes>, <AxesSubplot:>)"
      ]
     },
     "execution_count": 36,
     "metadata": {},
     "output_type": "execute_result"
    },
    {
     "data": {
      "image/png": "[encoded data removed]",
      "text/plain": [
       "<Figure size 648x504 with 1 Axes>"
      ]
     },
     "metadata": {
      "needs_background": "light"
     },
     "output_type": "display_data"
    }
   ],
   "source": [
    "#%matplotlib inline\n",
    "import matplotlib.pyplot as plt\n",
    "import matplotlib.markers as markers\n",
    "import pandas as pd\n",
    "import numpy as np\n",
    "from os.path import join\n",
    "from sklearn.svm import SVC\n",
    "from sklearn import svm\n",
    "\n",
    "def LoadData(sfile, lfile):\n",
    "    # Load samples\n",
    "    df = pd.read_csv(\n",
    "        filepath_or_buffer=join('data', sfile), \n",
    "        header=None)\n",
    "    samples = df.iloc[:,:].values\n",
    "\n",
    "    # Load classification labels\n",
    "    df = pd.read_csv(\n",
    "        filepath_or_buffer=join('data', lfile), \n",
    "        header=None)\n",
    "    labels = df.iloc[:,:].values\n",
    "    \n",
    "    return samples, labels\n",
    "\n",
    "def ParseData(samples, labels):\n",
    "\n",
    "    x1_pos = np.array([])\n",
    "    x2_pos = np.array([])\n",
    "    x1_neg = np.array([])\n",
    "    x2_neg = np.array([])\n",
    "\n",
    "    for i in range(0, len(labels)):\n",
    "        if(labels[i][0] == 1):\n",
    "            x1_pos = np.append(x1_pos,samples[i, 0])\n",
    "            x2_pos = np.append(x2_pos,samples[i, 1])\n",
    "        else:\n",
    "            x1_neg = np.append(x1_neg,samples[i, 0])\n",
    "            x2_neg = np.append(x2_neg,samples[i, 1])\n",
    "            \n",
    "    return x1_pos, x2_pos, x1_neg, x2_neg\n",
    "\n",
    "def make_meshgrid(x, y, h=.02):\n",
    "    x_min, x_max = x.min() - 1, x.max() + 1\n",
    "    y_min, y_max = y.min() - 1, y.max() + 1\n",
    "    xx, yy = np.meshgrid(np.arange(x_min, x_max, h), np.arange(y_min, y_max, h))\n",
    "    return xx, yy\n",
    "\n",
    "def plot_contours(ax, clf, xx, yy, **params):\n",
    "    Z = clf.predict(np.c_[xx.ravel(), yy.ravel()])\n",
    "    Z = Z.reshape(xx.shape)\n",
    "    out = ax.contourf(xx, yy, Z, **params)\n",
    "    return out\n",
    "\n",
    "def SupportVectorMachine(X, y, kernel, C, sigma):\n",
    "    if(kernel == 'linear'):\n",
    "        model = SVC(kernel=kernel, C=C)\n",
    "    else:\n",
    "        gamma = 1/(2*sigma*sigma)\n",
    "        model = SVC(kernel=kernel, C=C, gamma=gamma)\n",
    "        \n",
    "    clf = model.fit(X, y.ravel())\n",
    "    return clf, model\n",
    "\n",
    "def PlotSVM(clf, X, y):\n",
    "\n",
    "    fig, ax = plt.subplots(figsize=(9, 7))\n",
    "    # title for the plots\n",
    "  \n",
    "    # Set-up grid for plotting.\n",
    "    X0, X1 = X[:, 0], X[:, 1]\n",
    "    xx, yy = make_meshgrid(X0, X1)\n",
    "    plot_contours(ax, clf, xx, yy, cmap=plt.cm.coolwarm, alpha=0.6)\n",
    "    \n",
    "    x1_pos, x2_pos, x1_neg, x2_neg = ParseData(X, y)\n",
    "    plt.scatter(x1_pos, x2_pos, color='green', marker=\"+\")\n",
    "    plt.scatter(x1_neg, x2_neg, color='black', marker=\"_\")\n",
    "    return fig, ax\n",
    "\n",
    "samples3, labels3 = LoadData('samples3.csv', 'labels3.csv')\n",
    "samples3_val, labels3_val = LoadData('samples3_val.csv', 'labels3_val.csv')\n",
    "\n",
    "C = [0.01, 0.03, 0.1, 0.3, 1, 3, 10, 30]\n",
    "sig = [0.01, 0.03, 0.1, 0.3, 1, 3, 10, 30]\n",
    "test = []\n",
    "bestAcc = -1\n",
    "bestC = -1\n",
    "bestSig = -1\n",
    "\n",
    "for i in C:\n",
    "    for j in sig:\n",
    "        clf, model = SupportVectorMachine(samples3, labels3, 'rbf', i, j)\n",
    "        temp = clf.score(samples3_val, labels3_val)\n",
    "        if (temp > bestAcc):\n",
    "            bestAcc = temp\n",
    "            bestC = i\n",
    "            bestSig = j\n",
    "            bestClf = clf\n",
    "        test.append(temp)\n",
    "        \n",
    "print(\"Accuracies: \", test)\n",
    "print(\"Best Accuracy: \", bestAcc)\n",
    "print(\"Best C: \", bestC)\n",
    "print(\"Best Sigma: \", bestSig)\n",
    "PlotSVM(bestClf, samples3_val, labels3_val)"
   ]
  },
  {
   "cell_type": "markdown",
   "metadata": {},
   "source": [
    "As you will see from this exercise, you will obtain a non-linear decision boundary that correctly classifies most of the data. Keep in mind that this is an example and in practice data is almost always greater than two dimensions, rendering a solution space that cannot be graphed. This said, focusing on obtaining a better accuracy on the validation set is a good way to tune the hyperparameters without physically being able to plot the data. "
   ]
  }
 ],
 "metadata": {
  "kernelspec": {
   "display_name": "Python 3",
   "language": "python",
   "name": "python3"
  },
  "language_info": {
   "codemirror_mode": {
    "name": "ipython",
    "version": 3
   },
   "file_extension": ".py",
   "mimetype": "text/x-python",
   "name": "python",
   "nbconvert_exporter": "python",
   "pygments_lexer": "ipython3",
   "version": "3.8.5"
  }
 },
 "nbformat": 4,
 "nbformat_minor": 4
}
